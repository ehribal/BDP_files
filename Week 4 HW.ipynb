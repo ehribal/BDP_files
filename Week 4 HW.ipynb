{
 "cells": [
  {
   "cell_type": "code",
   "execution_count": 10,
   "metadata": {},
   "outputs": [
    {
     "name": "stdout",
     "output_type": "stream",
     "text": [
      "0.8475\n"
     ]
    }
   ],
   "source": [
    "str = 'X-DSPAM-Confidence:0.8475'\n",
    "\n",
    "loc = int(str.find(\":\"))\n",
    "num = float(str[(loc+1):])\n",
    "print(num)"
   ]
  },
  {
   "cell_type": "code",
   "execution_count": 31,
   "metadata": {},
   "outputs": [
    {
     "name": "stdout",
     "output_type": "stream",
     "text": [
      "Sun Sep 20 18:57:34\n",
      "2020\n",
      "Sep\n",
      "38\n",
      "Sun\n",
      "264\n",
      "20\n",
      "6\n"
     ]
    }
   ],
   "source": [
    "import time\n",
    "import datetime\n",
    "tim = time.asctime(time.localtime())\n",
    "#1\n",
    "print(tim[:-5])\n",
    "#2\n",
    "print(tim[-4:])\n",
    "#3\n",
    "print(tim[4:7])\n",
    "#4\n",
    "tim1 = time.localtime()\n",
    "the_date = datetime.date(tim1[0], tim1[1], tim1[2])\n",
    "week_num = the_date.isocalendar()[1]\n",
    "print(week_num)\n",
    "#5\n",
    "print(tim[:3])\n",
    "#6\n",
    "print(tims[7])\n",
    "#7\n",
    "print(tims[2])\n",
    "#8\n",
    "print(tims[6])"
   ]
  },
  {
   "cell_type": "code",
   "execution_count": 29,
   "metadata": {},
   "outputs": [
    {
     "name": "stdout",
     "output_type": "stream",
     "text": [
      "Please enter your email address to qualify for student discount. edhribal@gmail.com\n",
      "We're sorry, your email does not qualify for student discount.\n"
     ]
    }
   ],
   "source": [
    "current_time = time.asctime(time.localtime())\n",
    "\n",
    "user_email = input(\"Please enter your email address to qualify for student discount. \")\n",
    "\n",
    "if user_email.endswith(\".edu\") is True:\n",
    "    print(\"You qualify for the student discount. Your account was verified at \" + current_time)\n",
    "else:\n",
    "    print(\"We're sorry, your email does not qualify for student discount.\")"
   ]
  },
  {
   "cell_type": "code",
   "execution_count": null,
   "metadata": {},
   "outputs": [],
   "source": []
  },
  {
   "cell_type": "code",
   "execution_count": null,
   "metadata": {},
   "outputs": [],
   "source": []
  }
 ],
 "metadata": {
  "kernelspec": {
   "display_name": "Python 3",
   "language": "python",
   "name": "python3"
  },
  "language_info": {
   "codemirror_mode": {
    "name": "ipython",
    "version": 3
   },
   "file_extension": ".py",
   "mimetype": "text/x-python",
   "name": "python",
   "nbconvert_exporter": "python",
   "pygments_lexer": "ipython3",
   "version": "3.8.3"
  }
 },
 "nbformat": 4,
 "nbformat_minor": 4
}
