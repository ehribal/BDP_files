{
 "cells": [
  {
   "cell_type": "code",
   "execution_count": 1,
   "metadata": {},
   "outputs": [
    {
     "name": "stdout",
     "output_type": "stream",
     "text": [
      "['already', 'and', 'Arise', 'breaks', 'But', 'east', 'envious', 'fair', 'grief', 'is', 'It', 'Juliet', 'kill', 'light', 'moon', 'pale', 'sick', 'soft', 'sun', 'the', 'there', 'through', 'was', 'what', 'Who', 'window', 'with', 'yonder']\n"
     ]
    }
   ],
   "source": [
    "tfile = open(\"romeo.txt\")\n",
    "full_list = []\n",
    "\n",
    "for line in tfile:\n",
    "    tlist = line.split()\n",
    "    for word in tlist:\n",
    "        if word in full_list:\n",
    "            pass\n",
    "        else:\n",
    "            full_list.append(word)\n",
    "\n",
    "full_list_sorted = sorted(full_list, key=str.lower)\n",
    "print(full_list_sorted)"
   ]
  },
  {
   "cell_type": "code",
   "execution_count": 11,
   "metadata": {},
   "outputs": [
    {
     "name": "stdout",
     "output_type": "stream",
     "text": [
      "Please enter the name of the pitcher. Joe Smith\n",
      "Please enter his fastball velocity. 92\n",
      "Velocity below average\n",
      "If you are finished, enter 'Stop'. To continue, hit enter.\n",
      "Please enter the name of the pitcher. Chris Sale\n",
      "Please enter his fastball velocity. 96\n",
      "Velocity above average\n",
      "If you are finished, enter 'Stop'. To continue, hit enter.Stop\n",
      "['Chris Sale']\n",
      "['Joe Smith']\n"
     ]
    }
   ],
   "source": [
    "above_avg_velo = []\n",
    "below_avg_velo = []\n",
    "\n",
    "stopper = 0\n",
    "while stopper == 0:\n",
    "    pitcher_info = []\n",
    "    name = input(\"Please enter the name of the pitcher. \")\n",
    "    pitcher_info.append(name)\n",
    "    velo = float(input(\"Please enter his fastball velocity. \"))\n",
    "    pitcher_info.append(velo)\n",
    "    if pitcher_info[1] > 93.1:\n",
    "        print(\"Velocity above average\")\n",
    "        above_avg_velo.append(pitcher_info[0])\n",
    "    else:\n",
    "        print(\"Velocity below average\")\n",
    "        below_avg_velo.append(pitcher_info[0])\n",
    "    \n",
    "    end_or = input(\"If you are finished, enter 'Stop'. To continue, hit enter.\")\n",
    "    if end_or == \"Stop\":\n",
    "        stopper += 1\n",
    "        print(above_avg_velo)\n",
    "        print(below_avg_velo)\n",
    "    else:\n",
    "        pass\n",
    "    "
   ]
  },
  {
   "cell_type": "code",
   "execution_count": 12,
   "metadata": {},
   "outputs": [
    {
     "ename": "IndexError",
     "evalue": "list index out of range",
     "output_type": "error",
     "traceback": [
      "\u001b[1;31m---------------------------------------------------------------------------\u001b[0m",
      "\u001b[1;31mIndexError\u001b[0m                                Traceback (most recent call last)",
      "\u001b[1;32m<ipython-input-12-cd42123740fb>\u001b[0m in \u001b[0;36m<module>\u001b[1;34m\u001b[0m\n\u001b[0;32m      1\u001b[0m \u001b[0mfriends\u001b[0m \u001b[1;33m=\u001b[0m \u001b[1;33m[\u001b[0m \u001b[1;34m'Joseph'\u001b[0m\u001b[1;33m,\u001b[0m \u001b[1;34m'Glenn'\u001b[0m\u001b[1;33m,\u001b[0m \u001b[1;34m'Sally'\u001b[0m \u001b[1;33m]\u001b[0m\u001b[1;33m\u001b[0m\u001b[1;33m\u001b[0m\u001b[0m\n\u001b[1;32m----> 2\u001b[1;33m \u001b[0mprint\u001b[0m\u001b[1;33m(\u001b[0m\u001b[0mfriends\u001b[0m\u001b[1;33m[\u001b[0m\u001b[1;36m3\u001b[0m\u001b[1;33m]\u001b[0m\u001b[1;33m)\u001b[0m\u001b[1;33m\u001b[0m\u001b[1;33m\u001b[0m\u001b[0m\n\u001b[0m",
      "\u001b[1;31mIndexError\u001b[0m: list index out of range"
     ]
    }
   ],
   "source": [
    "friends = [ 'Joseph', 'Glenn', 'Sally' ]\n",
    "print(friends[3])"
   ]
  },
  {
   "cell_type": "code",
   "execution_count": null,
   "metadata": {},
   "outputs": [],
   "source": []
  }
 ],
 "metadata": {
  "kernelspec": {
   "display_name": "Python 3",
   "language": "python",
   "name": "python3"
  },
  "language_info": {
   "codemirror_mode": {
    "name": "ipython",
    "version": 3
   },
   "file_extension": ".py",
   "mimetype": "text/x-python",
   "name": "python",
   "nbconvert_exporter": "python",
   "pygments_lexer": "ipython3",
   "version": "3.8.3"
  }
 },
 "nbformat": 4,
 "nbformat_minor": 4
}
