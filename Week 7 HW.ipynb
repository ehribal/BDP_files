{
 "cells": [
  {
   "cell_type": "code",
   "execution_count": 3,
   "metadata": {},
   "outputs": [
    {
     "name": "stdout",
     "output_type": "stream",
     "text": [
      "Please enter a file name email-test.txt\n",
      "{'Sat': 3, 'Fri': 2, 'Thu': 1, 'Tue': 1}\n"
     ]
    }
   ],
   "source": [
    "weekdays = {}\n",
    "filename = input(\"Please enter a file name \")\n",
    "efile = open(str(filename))\n",
    "\n",
    "for line in efile:\n",
    "    if line.startswith(\"From\") == True:\n",
    "        line_list = line.split()\n",
    "        if line_list[2] not in weekdays.keys():\n",
    "            newday = line_list[2]\n",
    "            weekdays[newday] = 1\n",
    "        else:\n",
    "            newday = line_list[2]\n",
    "            add_value = weekdays.get(newday)\n",
    "            add_value += 1\n",
    "            weekdays[newday] = add_value\n",
    "    else:\n",
    "        pass\n",
    "\n",
    "print(weekdays)"
   ]
  },
  {
   "cell_type": "code",
   "execution_count": 1,
   "metadata": {},
   "outputs": [
    {
     "name": "stdout",
     "output_type": "stream",
     "text": [
      "Since your watchlist has lots of Drama movies, we recommend adding Her to your watchlist.\n"
     ]
    }
   ],
   "source": [
    "added_movies = {\"Action\":\"Superman Returns\",\"Comedy\":\"Hunt for the Wilderpeople\",\"Drama\":\"Her\",\"Family\":\"Yogi Bear\"}\n",
    "\n",
    "user_watchlist = {\"Avengers\":\"Action\", \"Inside Llewyn Davis\":\"Drama\", \"Chef\":\"Drama\", \"Nightcrawler\":\"Thriller\", \"Halloween\":\"Horror\", \"Whiplash\":\"Drama\", \"La La Land\":\"Musical\"}\n",
    "watchlist_list = user_watchlist.values()\n",
    "watchlist_set = set(watchlist_list)\n",
    "\n",
    "genre_instances = {}\n",
    "\n",
    "for genre in watchlist_set:\n",
    "    new_value = 0\n",
    "    for gen in watchlist_list:\n",
    "        if genre == gen:\n",
    "            new_value += 1\n",
    "            genre_instances[gen] = new_value\n",
    "        else:\n",
    "            pass\n",
    "        \n",
    "genre_fav = \"\"\n",
    "genre_num = 0\n",
    "\n",
    "try:\n",
    "    while 0 == 0:\n",
    "        newpair = genre_instances.popitem()\n",
    "        if newpair[1] > genre_num:\n",
    "            genre_num = newpair[1]\n",
    "            genre_fav = newpair[0]\n",
    "        else:\n",
    "            pass\n",
    "except:\n",
    "    pass\n",
    "\n",
    "mov_to_rec = added_movies.get(genre_fav)\n",
    "\n",
    "print(\"Since your watchlist has lots of \" + genre_fav + \" movies, we recommend adding \" + mov_to_rec + \" to your watchlist.\")\n",
    "        \n"
   ]
  },
  {
   "cell_type": "code",
   "execution_count": null,
   "metadata": {},
   "outputs": [],
   "source": []
  },
  {
   "cell_type": "code",
   "execution_count": null,
   "metadata": {},
   "outputs": [],
   "source": []
  }
 ],
 "metadata": {
  "kernelspec": {
   "display_name": "Python 3",
   "language": "python",
   "name": "python3"
  },
  "language_info": {
   "codemirror_mode": {
    "name": "ipython",
    "version": 3
   },
   "file_extension": ".py",
   "mimetype": "text/x-python",
   "name": "python",
   "nbconvert_exporter": "python",
   "pygments_lexer": "ipython3",
   "version": "3.8.3"
  }
 },
 "nbformat": 4,
 "nbformat_minor": 4
}
