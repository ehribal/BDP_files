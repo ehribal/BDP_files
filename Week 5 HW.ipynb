{
 "cells": [
  {
   "cell_type": "code",
   "execution_count": 9,
   "metadata": {},
   "outputs": [
    {
     "name": "stdout",
     "output_type": "stream",
     "text": [
      "FROM STEPHEN.MARQUARD@UCT.AC.ZA SAT JAN  5 09:14:16 2008\n",
      "\n",
      "RETURN-PATH: <POSTMASTER@COLLAB.SAKAIPROJECT.ORG>\n",
      "\n",
      "MESSAGE-ID: <200801051412.M05ECIAH010327@NAKAMURA.UITS.IUPUI.EDU>\n",
      "\n",
      "          FOR <SOURCE@COLLAB.SAKAIPROJECT.ORG>;\n",
      "\n",
      "\tFOR <SOURCE@COLLAB.SAKAIPROJECT.ORG>; SAT,5 JAN 2008 14:13:33 +0000 (GMT)\n",
      "\n"
     ]
    }
   ],
   "source": [
    "xfile = open(\"mbox-short.txt\")\n",
    "for line in xfile:\n",
    "    if line.find(\"@\") != -1:\n",
    "        print(line.upper())\n",
    "    else:\n",
    "        pass\n",
    "xfile.close()"
   ]
  },
  {
   "cell_type": "code",
   "execution_count": 35,
   "metadata": {},
   "outputs": [
    {
     "name": "stdout",
     "output_type": "stream",
     "text": [
      "What is the employee's first name? Joe\n",
      "What is the employee's last name? Smith\n",
      "What is the employee's ID number? 12345\n",
      "If you are finished, please type the word 'Stop'. Otherwise, hit enter'\n",
      "What is the employee's first name? Alex\n",
      "What is the employee's last name? Johnson\n",
      "What is the employee's ID number? 12323\n",
      "If you are finished, please type the word 'Stop'. Otherwise, hit enter'Stop\n"
     ]
    }
   ],
   "source": [
    "newfile = open(\"names_ids.txt\", 'w')\n",
    "stop_var = 0\n",
    "while stop_var == 0:\n",
    "    first_name = input(\"What is the employee's first name? \")\n",
    "    last_name = input(\"What is the employee's last name? \")\n",
    "    idnum = input(\"What is the employee's ID number? \")\n",
    "    full_line = first_name + \" \" + last_name + \" \" + idnum + \"\\n\"\n",
    "    newfile.write(full_line)\n",
    "    user_choice = input(\"If you are finished, please type the word 'Stop'. Otherwise, hit enter'\")\n",
    "    if user_choice == \"Stop\":\n",
    "        stop_var += 1\n",
    "    else:\n",
    "        pass\n",
    "newfile.close()"
   ]
  },
  {
   "cell_type": "code",
   "execution_count": 9,
   "metadata": {},
   "outputs": [
    {
     "name": "stdout",
     "output_type": "stream",
     "text": [
      "['(GMT)', '+0000', '09:14:16', '14:13:33', '2008', '5', '<200801051412.M05ECIAH010327@NAKAMURA.UITS.IUPUI.EDU>', '<POSTMASTER@COLLAB.SAKAIPROJECT.ORG>', '<SOURCE@COLLAB.SAKAIPROJECT.ORG>;', 'Date', 'FOR', 'FROM', 'JAN', 'MESSAGE-ID:', 'of', 'RETURN-PATH:', 'SAT', 'SAT,5', 'STEPHEN.MARQUARD@UCT.AC.ZA', 'time']\n"
     ]
    }
   ],
   "source": [
    "xfile = open(\"mbox-short.txt\")\n",
    "maslist = []\n",
    "\n",
    "for line in xfile:\n",
    "    lis = line.split()\n",
    "    for word in lis:\n",
    "        if word in maslist:\n",
    "            pass\n",
    "        else:\n",
    "            maslist.append(word)\n",
    "    \n",
    "maslist_sorted = sorted(maslist, key=str.lower)\n",
    "print(maslist_sorted)"
   ]
  },
  {
   "cell_type": "code",
   "execution_count": null,
   "metadata": {},
   "outputs": [],
   "source": []
  }
 ],
 "metadata": {
  "kernelspec": {
   "display_name": "Python 3",
   "language": "python",
   "name": "python3"
  },
  "language_info": {
   "codemirror_mode": {
    "name": "ipython",
    "version": 3
   },
   "file_extension": ".py",
   "mimetype": "text/x-python",
   "name": "python",
   "nbconvert_exporter": "python",
   "pygments_lexer": "ipython3",
   "version": "3.8.3"
  }
 },
 "nbformat": 4,
 "nbformat_minor": 4
}
