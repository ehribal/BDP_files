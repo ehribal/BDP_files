{
 "cells": [
  {
   "cell_type": "code",
   "execution_count": 2,
   "metadata": {},
   "outputs": [
    {
     "name": "stdout",
     "output_type": "stream",
     "text": [
      "Please enter the number of hours you work 45\n",
      "Please enter your hourly rate 15\n",
      "Your gross pay is 712.5\n"
     ]
    }
   ],
   "source": [
    "hours = float(input(\"Please enter the number of hours you work \"))\n",
    "rate = float(input(\"Please enter your hourly rate \"))\n",
    "if hours > 40:\n",
    "    othrs = hours-40\n",
    "    regpay = 40*rate\n",
    "    otpay = othrs*(rate*1.5)\n",
    "    grosspay = str(round(regpay+otpay, 2))\n",
    "else:\n",
    "    grosspay = str(round(hours * rate, 2))\n",
    "print(\"Your gross pay is \" + grosspay)"
   ]
  },
  {
   "cell_type": "code",
   "execution_count": 12,
   "metadata": {},
   "outputs": [
    {
     "name": "stdout",
     "output_type": "stream",
     "text": [
      "Please enter the number of hours you work 45\n",
      "Please enter your hourly rate 15\n",
      "Your gross pay is 712.5\n"
     ]
    }
   ],
   "source": [
    "try:\n",
    "    hours = float(input(\"Please enter the number of hours you work \"))\n",
    "    rate = float(input(\"Please enter your hourly rate \"))\n",
    "    if hours > 40:\n",
    "        othrs = hours-40\n",
    "        regpay = 40*rate\n",
    "        otpay = othrs*(rate*1.5)\n",
    "        grosspay = str(round(regpay+otpay, 2))\n",
    "    else:\n",
    "        grosspay = str(round(hours * rate, 2))\n",
    "    print(\"Your gross pay is \" + grosspay)\n",
    "except:\n",
    "    print(\"Error, please enter numeric input\")"
   ]
  },
  {
   "cell_type": "code",
   "execution_count": 13,
   "metadata": {},
   "outputs": [],
   "source": [
    "def compute_pay(hours, rate):\n",
    "    if hours > 40:\n",
    "        othrs = hours-40\n",
    "        regpay = 40*rate\n",
    "        otpay = othrs*(rate*1.5)\n",
    "        grosspay = str(round(regpay+otpay, 2))\n",
    "    else:\n",
    "        grosspay = str(round(hours * rate, 2))\n",
    "    print(\"Your gross pay is \" + grosspay)"
   ]
  },
  {
   "cell_type": "code",
   "execution_count": 14,
   "metadata": {},
   "outputs": [
    {
     "name": "stdout",
     "output_type": "stream",
     "text": [
      "Your gross pay is 600\n"
     ]
    }
   ],
   "source": [
    "compute_pay(40, 15)"
   ]
  },
  {
   "cell_type": "code",
   "execution_count": 18,
   "metadata": {},
   "outputs": [
    {
     "name": "stdout",
     "output_type": "stream",
     "text": [
      "Enter S for strike, B for ball, X for in play. Enter PC when the pitcher is changed. S\n",
      "Pitcher has thrown 1 pitches.\n",
      "Enter S for strike, B for ball, X for in play. Enter PC when the pitcher is changed. B\n",
      "Pitcher has thrown 2 pitches.\n",
      "Enter S for strike, B for ball, X for in play. Enter PC when the pitcher is changed. S\n",
      "Pitcher has thrown 3 pitches.\n",
      "Enter S for strike, B for ball, X for in play. Enter PC when the pitcher is changed. X\n",
      "Pitcher has thrown 4 pitches.\n",
      "Enter S for strike, B for ball, X for in play. Enter PC when the pitcher is changed. B\n",
      "Pitcher has thrown 5 pitches.\n",
      "Enter S for strike, B for ball, X for in play. Enter PC when the pitcher is changed. X\n",
      "Pitcher has thrown 6 pitches.\n",
      "Enter S for strike, B for ball, X for in play. Enter PC when the pitcher is changed. S\n",
      "Pitcher has thrown 7 pitches.\n",
      "Enter S for strike, B for ball, X for in play. Enter PC when the pitcher is changed. B\n",
      "Pitcher has thrown 8 pitches.\n",
      "Enter S for strike, B for ball, X for in play. Enter PC when the pitcher is changed. X\n",
      "Pitcher has thrown 9 pitches.\n",
      "Enter S for strike, B for ball, X for in play. Enter PC when the pitcher is changed. PC\n",
      "End of pitching appearance. 3 strikes, 3 balls, 3 balls in play, 9 total pitches.\n"
     ]
    }
   ],
   "source": [
    "#pitch counter\n",
    "strikes = 0\n",
    "balls = 0\n",
    "in_play = 0\n",
    "pitches = 0\n",
    "pitch_change = 0\n",
    "while pitch_change == 0:\n",
    "    user = input(\"Enter S for strike, B for ball, X for in play. Enter PC when the pitcher is changed. \")\n",
    "    pitches += 1\n",
    "    if user == \"S\":\n",
    "        strikes += 1\n",
    "    elif user == \"B\":\n",
    "        balls += 1\n",
    "    elif user == \"X\":\n",
    "        in_play += 1\n",
    "    elif user == \"PC\":\n",
    "        pitches -= 1\n",
    "        print (\"End of pitching appearance. \"+str(strikes)+\" strikes, \"+str(balls)+\" balls, \"+str(in_play)+\" balls in play, \"+str(pitches)+\" total pitches.\")\n",
    "        break\n",
    "    else:\n",
    "        print(\"Please enter a valid input\")\n",
    "    print(\"Pitcher has thrown \"+str(pitches)+\" pitches.\")"
   ]
  },
  {
   "cell_type": "code",
   "execution_count": 21,
   "metadata": {},
   "outputs": [
    {
     "name": "stdout",
     "output_type": "stream",
     "text": [
      "Too low\n"
     ]
    }
   ],
   "source": []
  },
  {
   "cell_type": "code",
   "execution_count": null,
   "metadata": {},
   "outputs": [],
   "source": []
  }
 ],
 "metadata": {
  "kernelspec": {
   "display_name": "Python 3",
   "language": "python",
   "name": "python3"
  },
  "language_info": {
   "codemirror_mode": {
    "name": "ipython",
    "version": 3
   },
   "file_extension": ".py",
   "mimetype": "text/x-python",
   "name": "python",
   "nbconvert_exporter": "python",
   "pygments_lexer": "ipython3",
   "version": "3.8.3"
  }
 },
 "nbformat": 4,
 "nbformat_minor": 4
}
