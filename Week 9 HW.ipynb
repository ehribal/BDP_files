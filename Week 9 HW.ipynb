{
 "cells": [
  {
   "cell_type": "code",
   "execution_count": 10,
   "metadata": {},
   "outputs": [
    {
     "data": {
      "text/plain": [
       "array([[10,  9,  8,  7,  6],\n",
       "       [ 5,  4,  3,  2,  1]])"
      ]
     },
     "execution_count": 10,
     "metadata": {},
     "output_type": "execute_result"
    }
   ],
   "source": [
    "import numpy as np\n",
    "a = np.arange(1,11).reshape(2,5)\n",
    "np.flip(a)"
   ]
  },
  {
   "cell_type": "code",
   "execution_count": 16,
   "metadata": {},
   "outputs": [
    {
     "data": {
      "text/plain": [
       "array([[ 0.59819358,  0.55686669, -0.15919227, -1.20466911],\n",
       "       [-1.27814053,  0.6832053 , -1.44561239,  1.45537388]])"
      ]
     },
     "execution_count": 16,
     "metadata": {},
     "output_type": "execute_result"
    }
   ],
   "source": [
    "b = np.random.normal(0,1,12).reshape(3,4)\n",
    "b[1:3,]"
   ]
  },
  {
   "cell_type": "code",
   "execution_count": 35,
   "metadata": {},
   "outputs": [
    {
     "name": "stdout",
     "output_type": "stream",
     "text": [
      "Enter the fastball velocity100.2\n",
      "Enter the fastball velocity100\n",
      "Enter the fastball velocity100\n",
      "Enter the fastball velocity100.5\n",
      "Enter the fastball velocity99.8\n",
      "Enter the fastball velocity99.7\n",
      "Enter the fastball velocity100.1\n",
      "Enter the fastball velocity100.8\n",
      "Enter the fastball velocity100\n",
      "Enter the fastball velocity99.6\n",
      "Enter the fastball velocity100.4\n",
      "Enter the fastball velocity100.4\n",
      "Enter the fastball velocity100\n",
      "Enter the fastball velocity100.6\n",
      "Enter the fastball velocity99\n",
      "Enter the fastball velocity98.9\n",
      "Enter the fastball velocity98.1\n",
      "Fastball velocity is low. Check for injury.\n"
     ]
    }
   ],
   "source": [
    "min_count = 0\n",
    "warning = 0\n",
    "velo_list = []\n",
    "velo_array = np.array([])\n",
    "while warning == 0:  \n",
    "    velo = float(input(\"Enter the fastball velocity\"))\n",
    "    min_count += 1\n",
    "    try:\n",
    "        stdev_watch = 3.5*np.std(velo_array)\n",
    "    except:\n",
    "        pass\n",
    "    velo_list.append(velo)\n",
    "    velo_array = np.array(velo_list)\n",
    "    if min_count >= 10 and (np.mean(velo_array) - velo) >= stdev_watch:\n",
    "        warning = 1\n",
    "    else:\n",
    "        pass\n",
    "\n",
    "print(\"Fastball velocity is low. Check for injury.\")"
   ]
  },
  {
   "cell_type": "code",
   "execution_count": null,
   "metadata": {},
   "outputs": [],
   "source": []
  },
  {
   "cell_type": "code",
   "execution_count": null,
   "metadata": {},
   "outputs": [],
   "source": []
  }
 ],
 "metadata": {
  "kernelspec": {
   "display_name": "Python 3",
   "language": "python",
   "name": "python3"
  },
  "language_info": {
   "codemirror_mode": {
    "name": "ipython",
    "version": 3
   },
   "file_extension": ".py",
   "mimetype": "text/x-python",
   "name": "python",
   "nbconvert_exporter": "python",
   "pygments_lexer": "ipython3",
   "version": "3.8.3"
  }
 },
 "nbformat": 4,
 "nbformat_minor": 4
}
