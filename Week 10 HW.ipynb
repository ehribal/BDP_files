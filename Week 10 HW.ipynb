{
 "cells": [
  {
   "cell_type": "code",
   "execution_count": 2,
   "metadata": {},
   "outputs": [],
   "source": [
    "import pandas as pd"
   ]
  },
  {
   "cell_type": "code",
   "execution_count": 3,
   "metadata": {},
   "outputs": [
    {
     "data": {
      "text/html": [
       "<div>\n",
       "<style scoped>\n",
       "    .dataframe tbody tr th:only-of-type {\n",
       "        vertical-align: middle;\n",
       "    }\n",
       "\n",
       "    .dataframe tbody tr th {\n",
       "        vertical-align: top;\n",
       "    }\n",
       "\n",
       "    .dataframe thead th {\n",
       "        text-align: right;\n",
       "    }\n",
       "</style>\n",
       "<table border=\"1\" class=\"dataframe\">\n",
       "  <thead>\n",
       "    <tr style=\"text-align: right;\">\n",
       "      <th></th>\n",
       "      <th>North</th>\n",
       "      <th>South</th>\n",
       "      <th>East</th>\n",
       "      <th>West</th>\n",
       "    </tr>\n",
       "  </thead>\n",
       "  <tbody>\n",
       "    <tr>\n",
       "      <th>John</th>\n",
       "      <td>10</td>\n",
       "      <td>20</td>\n",
       "      <td>30</td>\n",
       "      <td>40</td>\n",
       "    </tr>\n",
       "    <tr>\n",
       "      <th>Sally</th>\n",
       "      <td>50</td>\n",
       "      <td>60</td>\n",
       "      <td>70</td>\n",
       "      <td>80</td>\n",
       "    </tr>\n",
       "    <tr>\n",
       "      <th>Barry</th>\n",
       "      <td>90</td>\n",
       "      <td>100</td>\n",
       "      <td>110</td>\n",
       "      <td>120</td>\n",
       "    </tr>\n",
       "    <tr>\n",
       "      <th>Cindy</th>\n",
       "      <td>130</td>\n",
       "      <td>140</td>\n",
       "      <td>150</td>\n",
       "      <td>160</td>\n",
       "    </tr>\n",
       "  </tbody>\n",
       "</table>\n",
       "</div>"
      ],
      "text/plain": [
       "       North  South  East  West\n",
       "John      10     20    30    40\n",
       "Sally     50     60    70    80\n",
       "Barry     90    100   110   120\n",
       "Cindy    130    140   150   160"
      ]
     },
     "execution_count": 3,
     "metadata": {},
     "output_type": "execute_result"
    }
   ],
   "source": [
    "data1 = {\"North\": [10,50,90,130], \"South\": [20,60,100,140], \"East\": [30,70,110,150], \"West\": [40,80,120,160]}\n",
    "index = [\"John\", \"Sally\", \"Barry\", \"Cindy\"]\n",
    "frame1 = pd.DataFrame(data1, index=index)\n",
    "frame1"
   ]
  },
  {
   "cell_type": "code",
   "execution_count": 16,
   "metadata": {},
   "outputs": [
    {
     "name": "stdout",
     "output_type": "stream",
     "text": [
      "       North  South\n",
      "Sally     50     60\n",
      "Barry     90    100\n",
      "75.0\n"
     ]
    }
   ],
   "source": [
    "frame1_sliced = frame1[[\"North\",\"South\"]].loc[[\"Sally\",\"Barry\"]]\n",
    "print(frame1_sliced)\n",
    "print(frame1_sliced.values.mean())"
   ]
  },
  {
   "cell_type": "code",
   "execution_count": 77,
   "metadata": {},
   "outputs": [
    {
     "name": "stdout",
     "output_type": "stream",
     "text": [
      "Enter the years for which you want to return statistics. Enter 'Stop' when finished. 2020\n",
      "Enter the years for which you want to return statistics. Enter 'Stop' when finished. 2019\n",
      "Enter the years for which you want to return statistics. Enter 'Stop' when finished. 2017\n",
      "Enter the years for which you want to return statistics. Enter 'Stop' when finished. Stop\n",
      "Enter the stats you would like to retrieve. Enter 'Stop' when finished. avg\n",
      "This is not a valid stat\n",
      "Enter the stats you would like to retrieve. Enter 'Stop' when finished. Ba\n",
      "Enter the stats you would like to retrieve. Enter 'Stop' when finished. ops\n",
      "Enter the stats you would like to retrieve. Enter 'Stop' when finished. ops+\n",
      "Enter the stats you would like to retrieve. Enter 'Stop' when finished. hr\n",
      "Enter the stats you would like to retrieve. Enter 'Stop' when finished. Stop\n",
      "Enter 'sum' if you want to add the stats. Enter 'mean' if you want to average the stats. Enter 'none' if you want to only retrieve the stats. mean\n",
      "BA        0.270333\n",
      "OPS       0.919000\n",
      "OPS+    141.666667\n",
      "HR       32.666667\n",
      "dtype: float64\n"
     ]
    }
   ],
   "source": [
    "bellinger_stats = {\"G\": [132,162,156,56], \"PA\": [548,632,661,243], \"AB\": [480,557,558,213], \"R\": [87,84,121,33],\n",
    "                  \"H\": [128,145,170,51], \"2B\": [26,28,34,10], \"3B\": [4,7,3,0], \"HR\": [39,25,47,12],\n",
    "                  \"RBI\": [97,76,115,30], \"SB\": [10,14,15,6], \"CS\": [3,1,5,1], \"BB\": [64,69,95,30],\n",
    "                  \"SO\": [146,151,108,42], \"BA\": [.267,.260,.305,.239], \"OBP\": [.352,.343,.406,.333], \"SLG\": [.581,.470,.629,.455],\n",
    "                  \"OPS\": [.933,.814,1.035,.789], \"OPS+\": [143,120,169,113], \"TB\": [279,262,351,97], \"GDP\": [5,7,10,4]}\n",
    "bel_index = [2017,2018,2019,2020]\n",
    "bel_frame = pd.DataFrame(bellinger_stats, index=bel_index)\n",
    "\n",
    "year_stopper = 0\n",
    "year_list = []\n",
    "\n",
    "while year_stopper == 0:\n",
    "    year_input = input(\"Enter the years for which you want to return statistics. Enter 'Stop' when finished. \")\n",
    "    if year_input == \"Stop\":\n",
    "        year_stopper += 1\n",
    "    else:\n",
    "        try:\n",
    "            if int(year_input) not in year_list and int(year_input) in bel_index:\n",
    "                year_list.append(int(year_input))\n",
    "                year_list.sort()\n",
    "            else:\n",
    "                print(\"You have already entered this year or the player did not play this year.\")\n",
    "        except:\n",
    "            print(\"Please enter a year number\")\n",
    "            \n",
    "stats_stopper = 0\n",
    "stats_list = []\n",
    "\n",
    "while stats_stopper == 0:\n",
    "    stats_input = input(\"Enter the stats you would like to retrieve. Enter 'Stop' when finished. \")\n",
    "    if stats_input == \"Stop\":\n",
    "        stats_stopper += 1\n",
    "    else:\n",
    "        if stats_input.upper() not in stats_list and stats_input.upper() in bel_frame.columns:\n",
    "            stats_list.append(stats_input.upper())\n",
    "        elif stats_input.upper() not in bel_frame.columns:\n",
    "            print(\"This is not a valid stat\")\n",
    "        else:\n",
    "            print(\"You have already entered this stat\")\n",
    "            \n",
    "bel_frame_sliced = bel_frame[stats_list].loc[year_list]\n",
    "            \n",
    "operation = input(\"Enter 'sum' if you want to add the stats. Enter 'mean' if you want to average the stats. Enter 'none' if you want to only retrieve the stats. \")  \n",
    "\n",
    "if operation == \"sum\":\n",
    "    if \"BA\" in stats_list or \"OBP\" in stats_list or \"SLG\" in stats_list or \"OPS\" in stats_list:\n",
    "        print(\"Cannot add yearly average stats.\")\n",
    "    else:\n",
    "        print(bel_frame_sliced.sum())\n",
    "elif operation == \"mean\":\n",
    "    print(bel_frame_sliced.mean())\n",
    "else:\n",
    "    print(bel_frame_sliced)\n"
   ]
  },
  {
   "cell_type": "code",
   "execution_count": 67,
   "metadata": {},
   "outputs": [
    {
     "ename": "SyntaxError",
     "evalue": "invalid syntax (<ipython-input-67-8a41c6a8bc0a>, line 2)",
     "output_type": "error",
     "traceback": [
      "\u001b[1;36m  File \u001b[1;32m\"<ipython-input-67-8a41c6a8bc0a>\"\u001b[1;36m, line \u001b[1;32m2\u001b[0m\n\u001b[1;33m    if inp == ValueError\u001b[0m\n\u001b[1;37m                        ^\u001b[0m\n\u001b[1;31mSyntaxError\u001b[0m\u001b[1;31m:\u001b[0m invalid syntax\n"
     ]
    }
   ],
   "source": [
    "inp = int(input(\"test\"))\n",
    "if inp == ValueError"
   ]
  },
  {
   "cell_type": "code",
   "execution_count": 27,
   "metadata": {},
   "outputs": [
    {
     "name": "stdout",
     "output_type": "stream",
     "text": [
      "TestStop\n",
      "stopped\n"
     ]
    }
   ],
   "source": [
    "inp = input(\"Test\")\n",
    "if inp == \"Stop\":\n",
    "    print(\"stopped\")\n",
    "else:\n",
    "    print(\"pizza\")"
   ]
  },
  {
   "cell_type": "code",
   "execution_count": 49,
   "metadata": {},
   "outputs": [
    {
     "data": {
      "text/plain": [
       "Index(['G', 'PA', 'AB', 'R', 'H', '2B', '3B', 'HR', 'RBI', 'SB', 'CS', 'BB',\n",
       "       'SO', 'BA', 'OBP', 'SLG', 'OPS', 'OPS+', 'TB', 'GDP'],\n",
       "      dtype='object')"
      ]
     },
     "execution_count": 49,
     "metadata": {},
     "output_type": "execute_result"
    }
   ],
   "source": [
    "bellinger_stats = {\"G\": [132,162,156,56], \"PA\": [548,632,661,243], \"AB\": [480,557,558,213], \"R\": [87,84,121,33],\n",
    "                  \"H\": [128,145,170,51], \"2B\": [26,28,34,10], \"3B\": [4,7,3,0], \"HR\": [39,25,47,12],\n",
    "                  \"RBI\": [97,76,115,30], \"SB\": [10,14,15,6], \"CS\": [3,1,5,1], \"BB\": [64,69,95,30],\n",
    "                  \"SO\": [146,151,108,42], \"BA\": [.267,.260,.305,.239], \"OBP\": [.352,.343,.406,.333], \"SLG\": [.581,.470,.629,.455],\n",
    "                  \"OPS\": [.933,.814,1.035,.789], \"OPS+\": [143,120,169,113], \"TB\": [279,262,351,97], \"GDP\": [5,7,10,4]}\n",
    "bel_index = [2017,2018,2019,2020]\n",
    "bel_frame = pd.DataFrame(bellinger_stats, index=bel_index)\n",
    "\n",
    "bel_frame.columns"
   ]
  },
  {
   "cell_type": "code",
   "execution_count": 52,
   "metadata": {},
   "outputs": [
    {
     "name": "stdout",
     "output_type": "stream",
     "text": [
      "it works\n"
     ]
    }
   ],
   "source": [
    "x = [\"BA\", \"H\"]\n",
    "if \"BA\" in x:\n",
    "    print(\"it works\")\n",
    "else:\n",
    "    print(\"fu\")"
   ]
  },
  {
   "cell_type": "code",
   "execution_count": null,
   "metadata": {},
   "outputs": [],
   "source": []
  }
 ],
 "metadata": {
  "kernelspec": {
   "display_name": "Python 3",
   "language": "python",
   "name": "python3"
  },
  "language_info": {
   "codemirror_mode": {
    "name": "ipython",
    "version": 3
   },
   "file_extension": ".py",
   "mimetype": "text/x-python",
   "name": "python",
   "nbconvert_exporter": "python",
   "pygments_lexer": "ipython3",
   "version": "3.8.3"
  }
 },
 "nbformat": 4,
 "nbformat_minor": 4
}
