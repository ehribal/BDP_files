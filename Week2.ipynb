{
 "cells": [
  {
   "cell_type": "code",
   "execution_count": 4,
   "metadata": {},
   "outputs": [
    {
     "name": "stdout",
     "output_type": "stream",
     "text": [
      "Please enter the number of hours you work 10.5\n",
      "Please enter your hourly rate 15.25\n",
      "Your gross pay is 160.12\n"
     ]
    }
   ],
   "source": [
    "hours = float(input(\"Please enter the number of hours you work \"))\n",
    "rate = float(input(\"Please enter your hourly rate \"))\n",
    "grosspay = str(round(hours * rate, 2))\n",
    "print(\"Your gross pay is \" + grosspay)"
   ]
  },
  {
   "cell_type": "code",
   "execution_count": null,
   "metadata": {},
   "outputs": [],
   "source": []
  },
  {
   "cell_type": "code",
   "execution_count": null,
   "metadata": {},
   "outputs": [],
   "source": []
  },
  {
   "cell_type": "code",
   "execution_count": 6,
   "metadata": {},
   "outputs": [
    {
     "name": "stdout",
     "output_type": "stream",
     "text": [
      "17\n",
      "12.0\n"
     ]
    }
   ],
   "source": [
    "width = 17\n",
    "height = 12.0\n",
    "print(width)\n",
    "print(height)"
   ]
  },
  {
   "cell_type": "code",
   "execution_count": 12,
   "metadata": {},
   "outputs": [
    {
     "name": "stdout",
     "output_type": "stream",
     "text": [
      "8.5\n",
      "8.5\n",
      "4.0\n",
      "11\n"
     ]
    }
   ],
   "source": [
    "print(width/2)\n",
    "#float\n",
    "print(width/2.0)\n",
    "#float\n",
    "print(height/3)\n",
    "#float\n",
    "print(1+2*5)\n",
    "#int"
   ]
  },
  {
   "cell_type": "code",
   "execution_count": 4,
   "metadata": {},
   "outputs": [
    {
     "name": "stdout",
     "output_type": "stream",
     "text": [
      "What is the wOBA of the player you are evaluating? .333\n",
      "A 0.333 wOBA is above average by 0.012\n"
     ]
    }
   ],
   "source": [
    "avg_wOBA = .321\n",
    "my_wOBA = float(input(\"What is the wOBA of the player you are evaluating? \"))\n",
    "\n",
    "if my_wOBA > avg_wOBA:\n",
    "    diffabv = round(my_wOBA - avg_wOBA, 3)\n",
    "    print(\"A \" + str(my_wOBA) + \" wOBA is above average by \" + str(diffabv))\n",
    "elif my_wOBA == avg_wOBA:\n",
    "    print(\"A \" + str(my_wOBA) + \" wOBA is exactly average\")\n",
    "else:\n",
    "    diffbel = round(avg_wOBA - my_wOBA, 3)\n",
    "    print(\"A \" + str(my_wOBA) + \" wOBA is below average by \" + str(diffbel))"
   ]
  },
  {
   "cell_type": "code",
   "execution_count": null,
   "metadata": {},
   "outputs": [],
   "source": []
  },
  {
   "cell_type": "code",
   "execution_count": null,
   "metadata": {},
   "outputs": [],
   "source": []
  }
 ],
 "metadata": {
  "kernelspec": {
   "display_name": "Python 3",
   "language": "python",
   "name": "python3"
  },
  "language_info": {
   "codemirror_mode": {
    "name": "ipython",
    "version": 3
   },
   "file_extension": ".py",
   "mimetype": "text/x-python",
   "name": "python",
   "nbconvert_exporter": "python",
   "pygments_lexer": "ipython3",
   "version": "3.8.3"
  }
 },
 "nbformat": 4,
 "nbformat_minor": 4
}
